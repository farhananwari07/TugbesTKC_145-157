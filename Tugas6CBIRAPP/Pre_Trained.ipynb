{
  "nbformat": 4,
  "nbformat_minor": 0,
  "metadata": {
    "colab": {
      "name": "Pre Trained.ipynb",
      "provenance": [],
      "collapsed_sections": []
    },
    "kernelspec": {
      "name": "python3",
      "display_name": "Python 3"
    },
    "language_info": {
      "name": "python"
    },
    "widgets": {
      "application/vnd.jupyter.widget-state+json": {
        "290fc7cb7fd446ff8282ad3a6c585a17": {
          "model_module": "@jupyter-widgets/controls",
          "model_name": "HBoxModel",
          "model_module_version": "1.5.0",
          "state": {
            "_view_name": "HBoxView",
            "_dom_classes": [],
            "_model_name": "HBoxModel",
            "_view_module": "@jupyter-widgets/controls",
            "_model_module_version": "1.5.0",
            "_view_count": null,
            "_view_module_version": "1.5.0",
            "box_style": "",
            "layout": "IPY_MODEL_1b31dd1da73b414b9d65e9b4e141d75a",
            "_model_module": "@jupyter-widgets/controls",
            "children": [
              "IPY_MODEL_a440bd06018940bf9908bb1c6695389e",
              "IPY_MODEL_5f8024d10a2b4c38baa74577e079a3aa",
              "IPY_MODEL_575396cfd478415c96979fc643fe265a"
            ]
          }
        },
        "1b31dd1da73b414b9d65e9b4e141d75a": {
          "model_module": "@jupyter-widgets/base",
          "model_name": "LayoutModel",
          "model_module_version": "1.2.0",
          "state": {
            "_view_name": "LayoutView",
            "grid_template_rows": null,
            "right": null,
            "justify_content": null,
            "_view_module": "@jupyter-widgets/base",
            "overflow": null,
            "_model_module_version": "1.2.0",
            "_view_count": null,
            "flex_flow": null,
            "width": null,
            "min_width": null,
            "border": null,
            "align_items": null,
            "bottom": null,
            "_model_module": "@jupyter-widgets/base",
            "top": null,
            "grid_column": null,
            "overflow_y": null,
            "overflow_x": null,
            "grid_auto_flow": null,
            "grid_area": null,
            "grid_template_columns": null,
            "flex": null,
            "_model_name": "LayoutModel",
            "justify_items": null,
            "grid_row": null,
            "max_height": null,
            "align_content": null,
            "visibility": null,
            "align_self": null,
            "height": null,
            "min_height": null,
            "padding": null,
            "grid_auto_rows": null,
            "grid_gap": null,
            "max_width": null,
            "order": null,
            "_view_module_version": "1.2.0",
            "grid_template_areas": null,
            "object_position": null,
            "object_fit": null,
            "grid_auto_columns": null,
            "margin": null,
            "display": null,
            "left": null
          }
        },
        "a440bd06018940bf9908bb1c6695389e": {
          "model_module": "@jupyter-widgets/controls",
          "model_name": "HTMLModel",
          "model_module_version": "1.5.0",
          "state": {
            "_view_name": "HTMLView",
            "style": "IPY_MODEL_4e38d86865654f479752a9e489964257",
            "_dom_classes": [],
            "description": "",
            "_model_name": "HTMLModel",
            "placeholder": "​",
            "_view_module": "@jupyter-widgets/controls",
            "_model_module_version": "1.5.0",
            "value": "100%",
            "_view_count": null,
            "_view_module_version": "1.5.0",
            "description_tooltip": null,
            "_model_module": "@jupyter-widgets/controls",
            "layout": "IPY_MODEL_19c21d0b49e242d0922d3a5e159b2b2b"
          }
        },
        "5f8024d10a2b4c38baa74577e079a3aa": {
          "model_module": "@jupyter-widgets/controls",
          "model_name": "FloatProgressModel",
          "model_module_version": "1.5.0",
          "state": {
            "_view_name": "ProgressView",
            "style": "IPY_MODEL_d7568f696a224a93bec80f2a78f1b9fa",
            "_dom_classes": [],
            "description": "",
            "_model_name": "FloatProgressModel",
            "bar_style": "success",
            "max": 178793939,
            "_view_module": "@jupyter-widgets/controls",
            "_model_module_version": "1.5.0",
            "value": 178793939,
            "_view_count": null,
            "_view_module_version": "1.5.0",
            "orientation": "horizontal",
            "min": 0,
            "description_tooltip": null,
            "_model_module": "@jupyter-widgets/controls",
            "layout": "IPY_MODEL_a2473820d8be421dafd7ff9a79d9d679"
          }
        },
        "575396cfd478415c96979fc643fe265a": {
          "model_module": "@jupyter-widgets/controls",
          "model_name": "HTMLModel",
          "model_module_version": "1.5.0",
          "state": {
            "_view_name": "HTMLView",
            "style": "IPY_MODEL_454295921fea4fa085c5dbc5b78b1f08",
            "_dom_classes": [],
            "description": "",
            "_model_name": "HTMLModel",
            "placeholder": "​",
            "_view_module": "@jupyter-widgets/controls",
            "_model_module_version": "1.5.0",
            "value": " 171M/171M [00:04&lt;00:00, 46.1MB/s]",
            "_view_count": null,
            "_view_module_version": "1.5.0",
            "description_tooltip": null,
            "_model_module": "@jupyter-widgets/controls",
            "layout": "IPY_MODEL_9625fbb457e441db91914eaf9756d082"
          }
        },
        "4e38d86865654f479752a9e489964257": {
          "model_module": "@jupyter-widgets/controls",
          "model_name": "DescriptionStyleModel",
          "model_module_version": "1.5.0",
          "state": {
            "_view_name": "StyleView",
            "_model_name": "DescriptionStyleModel",
            "description_width": "",
            "_view_module": "@jupyter-widgets/base",
            "_model_module_version": "1.5.0",
            "_view_count": null,
            "_view_module_version": "1.2.0",
            "_model_module": "@jupyter-widgets/controls"
          }
        },
        "19c21d0b49e242d0922d3a5e159b2b2b": {
          "model_module": "@jupyter-widgets/base",
          "model_name": "LayoutModel",
          "model_module_version": "1.2.0",
          "state": {
            "_view_name": "LayoutView",
            "grid_template_rows": null,
            "right": null,
            "justify_content": null,
            "_view_module": "@jupyter-widgets/base",
            "overflow": null,
            "_model_module_version": "1.2.0",
            "_view_count": null,
            "flex_flow": null,
            "width": null,
            "min_width": null,
            "border": null,
            "align_items": null,
            "bottom": null,
            "_model_module": "@jupyter-widgets/base",
            "top": null,
            "grid_column": null,
            "overflow_y": null,
            "overflow_x": null,
            "grid_auto_flow": null,
            "grid_area": null,
            "grid_template_columns": null,
            "flex": null,
            "_model_name": "LayoutModel",
            "justify_items": null,
            "grid_row": null,
            "max_height": null,
            "align_content": null,
            "visibility": null,
            "align_self": null,
            "height": null,
            "min_height": null,
            "padding": null,
            "grid_auto_rows": null,
            "grid_gap": null,
            "max_width": null,
            "order": null,
            "_view_module_version": "1.2.0",
            "grid_template_areas": null,
            "object_position": null,
            "object_fit": null,
            "grid_auto_columns": null,
            "margin": null,
            "display": null,
            "left": null
          }
        },
        "d7568f696a224a93bec80f2a78f1b9fa": {
          "model_module": "@jupyter-widgets/controls",
          "model_name": "ProgressStyleModel",
          "model_module_version": "1.5.0",
          "state": {
            "_view_name": "StyleView",
            "_model_name": "ProgressStyleModel",
            "description_width": "",
            "_view_module": "@jupyter-widgets/base",
            "_model_module_version": "1.5.0",
            "_view_count": null,
            "_view_module_version": "1.2.0",
            "bar_color": null,
            "_model_module": "@jupyter-widgets/controls"
          }
        },
        "a2473820d8be421dafd7ff9a79d9d679": {
          "model_module": "@jupyter-widgets/base",
          "model_name": "LayoutModel",
          "model_module_version": "1.2.0",
          "state": {
            "_view_name": "LayoutView",
            "grid_template_rows": null,
            "right": null,
            "justify_content": null,
            "_view_module": "@jupyter-widgets/base",
            "overflow": null,
            "_model_module_version": "1.2.0",
            "_view_count": null,
            "flex_flow": null,
            "width": null,
            "min_width": null,
            "border": null,
            "align_items": null,
            "bottom": null,
            "_model_module": "@jupyter-widgets/base",
            "top": null,
            "grid_column": null,
            "overflow_y": null,
            "overflow_x": null,
            "grid_auto_flow": null,
            "grid_area": null,
            "grid_template_columns": null,
            "flex": null,
            "_model_name": "LayoutModel",
            "justify_items": null,
            "grid_row": null,
            "max_height": null,
            "align_content": null,
            "visibility": null,
            "align_self": null,
            "height": null,
            "min_height": null,
            "padding": null,
            "grid_auto_rows": null,
            "grid_gap": null,
            "max_width": null,
            "order": null,
            "_view_module_version": "1.2.0",
            "grid_template_areas": null,
            "object_position": null,
            "object_fit": null,
            "grid_auto_columns": null,
            "margin": null,
            "display": null,
            "left": null
          }
        },
        "454295921fea4fa085c5dbc5b78b1f08": {
          "model_module": "@jupyter-widgets/controls",
          "model_name": "DescriptionStyleModel",
          "model_module_version": "1.5.0",
          "state": {
            "_view_name": "StyleView",
            "_model_name": "DescriptionStyleModel",
            "description_width": "",
            "_view_module": "@jupyter-widgets/base",
            "_model_module_version": "1.5.0",
            "_view_count": null,
            "_view_module_version": "1.2.0",
            "_model_module": "@jupyter-widgets/controls"
          }
        },
        "9625fbb457e441db91914eaf9756d082": {
          "model_module": "@jupyter-widgets/base",
          "model_name": "LayoutModel",
          "model_module_version": "1.2.0",
          "state": {
            "_view_name": "LayoutView",
            "grid_template_rows": null,
            "right": null,
            "justify_content": null,
            "_view_module": "@jupyter-widgets/base",
            "overflow": null,
            "_model_module_version": "1.2.0",
            "_view_count": null,
            "flex_flow": null,
            "width": null,
            "min_width": null,
            "border": null,
            "align_items": null,
            "bottom": null,
            "_model_module": "@jupyter-widgets/base",
            "top": null,
            "grid_column": null,
            "overflow_y": null,
            "overflow_x": null,
            "grid_auto_flow": null,
            "grid_area": null,
            "grid_template_columns": null,
            "flex": null,
            "_model_name": "LayoutModel",
            "justify_items": null,
            "grid_row": null,
            "max_height": null,
            "align_content": null,
            "visibility": null,
            "align_self": null,
            "height": null,
            "min_height": null,
            "padding": null,
            "grid_auto_rows": null,
            "grid_gap": null,
            "max_width": null,
            "order": null,
            "_view_module_version": "1.2.0",
            "grid_template_areas": null,
            "object_position": null,
            "object_fit": null,
            "grid_auto_columns": null,
            "margin": null,
            "display": null,
            "left": null
          }
        }
      }
    }
  },
  "cells": [
    {
      "cell_type": "code",
      "metadata": {
        "colab": {
          "base_uri": "https://localhost:8080/"
        },
        "id": "srTxkv9R_0EU",
        "outputId": "7daf0ce3-24c9-4321-a8c6-955dd051ab6a"
      },
      "source": [
        "from google.colab import drive\n",
        "drive.mount('/content/drive')"
      ],
      "execution_count": null,
      "outputs": [
        {
          "output_type": "stream",
          "name": "stdout",
          "text": [
            "Mounted at /content/drive\n"
          ]
        }
      ]
    },
    {
      "cell_type": "code",
      "metadata": {
        "id": "YZb3xLDp_9Fe"
      },
      "source": [
        "import requests \n",
        "file_url=\"https://www.cs.toronto.edu/~kriz/cifar-100-python.tar.gz\"\n",
        "    \n",
        "r = requests.get(file_url, stream = True) \n",
        "\n",
        "with open(\"/content/drive/MyDrive/Semester 7/TKC/cifar-100-python.tar.gz\", \"wb\") as file: \n",
        "    for block in r.iter_content(chunk_size = 1024): \n",
        "        if block: \n",
        "            file.write(block)"
      ],
      "execution_count": null,
      "outputs": []
    },
    {
      "cell_type": "code",
      "metadata": {
        "colab": {
          "base_uri": "https://localhost:8080/"
        },
        "id": "hCbnOHWz-Pid",
        "outputId": "ed49422f-f58a-439c-b95d-05fcc73589a7"
      },
      "source": [
        "import torch\n",
        "import torch.nn as nn\n",
        "import torch.optim as optim\n",
        "import numpy as np\n",
        "import torchvision\n",
        "from torchvision import datasets, models, transforms\n",
        "import matplotlib.pyplot as plt\n",
        "import time\n",
        "import os\n",
        "import copy\n",
        "print(\"PyTorch Version: \",torch.__version__)\n",
        "print(\"Torchvision Version: \",torchvision.__version__)"
      ],
      "execution_count": null,
      "outputs": [
        {
          "output_type": "stream",
          "name": "stdout",
          "text": [
            "PyTorch Version:  1.10.0+cu111\n",
            "Torchvision Version:  0.11.1+cu111\n"
          ]
        }
      ]
    },
    {
      "cell_type": "code",
      "metadata": {
        "colab": {
          "base_uri": "https://localhost:8080/"
        },
        "id": "_1g3HSl1-7U0",
        "outputId": "112a38b1-6e47-4475-b8f5-56ce56f06f6f"
      },
      "source": [
        "device = torch.device(\"cuda:5\" if torch.cuda.is_available() else \"cpu\")\n",
        "print(device)"
      ],
      "execution_count": null,
      "outputs": [
        {
          "output_type": "stream",
          "name": "stdout",
          "text": [
            "cpu\n"
          ]
        }
      ]
    },
    {
      "cell_type": "code",
      "metadata": {
        "id": "cVnSchsl-7Rq"
      },
      "source": [
        "data_dir = \"/content/drive/MyDrive/Semester 7/TKC/\"\n",
        "\n",
        "model_name = \"resnet\"\n",
        "\n",
        "num_classes = 100\n",
        "\n",
        "batch_size = 512\n",
        "\n",
        "num_epochs = 5"
      ],
      "execution_count": null,
      "outputs": []
    },
    {
      "cell_type": "code",
      "metadata": {
        "id": "nzAQPMho-7Ms"
      },
      "source": [
        "def train_model(model, dataloaders, criterion, optimizer, num_epochs=25):\n",
        "    since = time.time()\n",
        "\n",
        "    val_acc_history = []\n",
        "\n",
        "    best_acc = 0.0\n",
        "\n",
        "    for epoch in range(num_epochs):\n",
        "        print('Epoch {}/{}'.format(epoch, num_epochs - 1))\n",
        "        print('-' * 5)\n",
        "\n",
        "        # Each epoch has a training and validation phase\n",
        "        for phase in ['train', 'val']:\n",
        "            if phase == 'train':\n",
        "                model.train()  # Set model to training mode\n",
        "            else:\n",
        "                model.eval()   # Set model to evaluate mode\n",
        "\n",
        "            running_loss = 0.0\n",
        "            running_corrects = 0\n",
        "            iters = 0\n",
        "\n",
        "            for inputs, labels in dataloaders[phase]:\n",
        "                iters += inputs.size(0)\n",
        "                inputs = inputs.to(device)\n",
        "                labels = labels.to(device)\n",
        "\n",
        "                optimizer.zero_grad()\n",
        "\n",
        "                with torch.set_grad_enabled(phase == 'train'):\n",
        "                    outputs = model(inputs)\n",
        "                    loss = criterion(outputs, labels)\n",
        "                    \n",
        "                    _, preds = torch.max(outputs, 1)\n",
        "\n",
        "                    if phase == 'train':\n",
        "                        loss.backward()\n",
        "                        optimizer.step()\n",
        "\n",
        "                running_loss += loss.item() * inputs.size(0)\n",
        "                running_corrects += torch.sum(preds == labels.data)\n",
        "\n",
        "            epoch_loss = running_loss / len(dataloaders[phase].dataset)\n",
        "            epoch_acc = running_corrects.double() / len(dataloaders[phase].dataset)\n",
        "\n",
        "            print('{} Loss: {:.4f} Acc: {:.4f}'.format(phase, epoch_loss, epoch_acc))\n",
        "\n",
        "            if phase == 'val' and epoch_acc > best_acc:\n",
        "                best_acc = epoch_acc\n",
        "                best_model_wts = copy.deepcopy(model.state_dict())\n",
        "            if phase == 'val':\n",
        "                val_acc_history.append(epoch_acc)\n",
        "\n",
        "        print()\n",
        "\n",
        "    time_elapsed = time.time() - since\n",
        "    print('Training complete in {:.0f}m {:.0f}s'.format(time_elapsed // 60, time_elapsed % 60))\n",
        "    print('Best val Acc: {:4f}'.format(best_acc))\n",
        "\n",
        "    # load best model weights\n",
        "    model.load_state_dict(best_model_wts)\n",
        "    return model, val_acc_history"
      ],
      "execution_count": null,
      "outputs": []
    },
    {
      "cell_type": "code",
      "metadata": {
        "id": "_Z4tzng--7KT"
      },
      "source": [
        "def set_parameter_requires_grad(model, feature_extracting):\n",
        "    if feature_extracting:\n",
        "        for param in model.parameters():\n",
        "            param.requires_grad = False"
      ],
      "execution_count": null,
      "outputs": []
    },
    {
      "cell_type": "code",
      "metadata": {
        "id": "XfF0nyT_-7HW"
      },
      "source": [
        "def initialize_model(model_name, num_classes, use_pretrained=True, is_feature_extracting=False):\n",
        "    # Initialize these variables which will be set in this if statement. Each of these\n",
        "    #   variables is model specific.\n",
        "    model = None\n",
        "    input_size = 0\n",
        "\n",
        "    if model_name == \"resnet\":\n",
        "        \"\"\" Resnet101\n",
        "        \"\"\"\n",
        "        model = models.resnet101(pretrained=use_pretrained)\n",
        "        set_parameter_requires_grad(model, is_feature_extracting)\n",
        "        num_ftrs = model.fc.in_features\n",
        "        model.avgpool = nn.AvgPool2d(kernel_size=1, stride=1, padding=0)\n",
        "        model.fc = nn.Linear(num_ftrs, num_classes)\n",
        "        input_size = 32    \n",
        "\n",
        "    else:\n",
        "        print(\"Invalid model name, exiting...\")\n",
        "        exit()\n",
        "\n",
        "    return model, input_size"
      ],
      "execution_count": null,
      "outputs": []
    },
    {
      "cell_type": "code",
      "metadata": {
        "colab": {
          "base_uri": "https://localhost:8080/",
          "height": 66,
          "referenced_widgets": [
            "290fc7cb7fd446ff8282ad3a6c585a17",
            "1b31dd1da73b414b9d65e9b4e141d75a",
            "a440bd06018940bf9908bb1c6695389e",
            "5f8024d10a2b4c38baa74577e079a3aa",
            "575396cfd478415c96979fc643fe265a",
            "4e38d86865654f479752a9e489964257",
            "19c21d0b49e242d0922d3a5e159b2b2b",
            "d7568f696a224a93bec80f2a78f1b9fa",
            "a2473820d8be421dafd7ff9a79d9d679",
            "454295921fea4fa085c5dbc5b78b1f08",
            "9625fbb457e441db91914eaf9756d082"
          ]
        },
        "id": "l_Z4rvOz-7E-",
        "outputId": "8822e290-0a83-485d-8120-b594204f570a"
      },
      "source": [
        "# Initialize the model for this run\n",
        "model_t, input_size = initialize_model(model_name, num_classes, use_pretrained=True, is_feature_extracting=False)\n",
        "# Send the model to GPU\n",
        "model_t = model_t.to(device)"
      ],
      "execution_count": null,
      "outputs": [
        {
          "output_type": "stream",
          "name": "stderr",
          "text": [
            "Downloading: \"https://download.pytorch.org/models/resnet101-63fe2227.pth\" to /root/.cache/torch/hub/checkpoints/resnet101-63fe2227.pth\n"
          ]
        },
        {
          "output_type": "display_data",
          "data": {
            "application/vnd.jupyter.widget-view+json": {
              "model_id": "290fc7cb7fd446ff8282ad3a6c585a17",
              "version_minor": 0,
              "version_major": 2
            },
            "text/plain": [
              "  0%|          | 0.00/171M [00:00<?, ?B/s]"
            ]
          },
          "metadata": {}
        }
      ]
    },
    {
      "cell_type": "code",
      "metadata": {
        "colab": {
          "base_uri": "https://localhost:8080/"
        },
        "id": "p9bMpYuv-7CS",
        "outputId": "95a1a7d9-1a1e-4000-8395-1e8ec0694a1e"
      },
      "source": [
        "def dataLoader(is_train='train', cuda=True, batch_size=512, shuffle=True):\n",
        "        if is_train == 'train':\n",
        "            trans = [transforms.RandomHorizontalFlip(),\n",
        "                     transforms.RandomCrop(32, padding=4),\n",
        "                     transforms.ToTensor(),\n",
        "                     transforms.Normalize([0.485, 0.456, 0.406], [0.229, 0.224, 0.225])]\n",
        "            trans = transforms.Compose(trans)\n",
        "            data_set = datasets.CIFAR100(root=data_dir, download = True, train=True, transform=trans)\n",
        "        else:\n",
        "            trans = [transforms.ToTensor(),\n",
        "                     transforms.Normalize([0.485, 0.456, 0.406], [0.229, 0.224, 0.225])]\n",
        "            trans = transforms.Compose(trans)\n",
        "            data_set = datasets.CIFAR100(data_dir, train=False, transform=trans)\n",
        "\n",
        "        return data_set\n",
        "\n",
        "dataset = {}\n",
        "for phase in ['train', 'val']:\n",
        "    dataset[phase] = dataLoader(phase)\n",
        "\n",
        "dataloaders_dict = {x: torch.utils.data.DataLoader(dataset[x], batch_size=batch_size, shuffle=True, num_workers=4) for x in ['train', 'val']}"
      ],
      "execution_count": null,
      "outputs": [
        {
          "output_type": "stream",
          "name": "stdout",
          "text": [
            "Using downloaded and verified file: /content/drive/MyDrive/Semester 7/TKC/cifar-100-python.tar.gz\n",
            "Extracting /content/drive/MyDrive/Semester 7/TKC/cifar-100-python.tar.gz to /content/drive/MyDrive/Semester 7/TKC/\n"
          ]
        },
        {
          "output_type": "stream",
          "name": "stderr",
          "text": [
            "/usr/local/lib/python3.7/dist-packages/torch/utils/data/dataloader.py:481: UserWarning: This DataLoader will create 4 worker processes in total. Our suggested max number of worker in current system is 2, which is smaller than what this DataLoader is going to create. Please be aware that excessive worker creation might get DataLoader running slow or even freeze, lower the worker number to avoid potential slowness/freeze if necessary.\n",
            "  cpuset_checked))\n"
          ]
        }
      ]
    },
    {
      "cell_type": "code",
      "metadata": {
        "id": "_wQx_W8j-6_y"
      },
      "source": [
        "def param2update(model, is_feature_extract=False):\n",
        "    params_to_update = model.parameters()\n",
        "    print(\"Params to learn:\")\n",
        "    if is_feature_extract:\n",
        "        params_to_update = []\n",
        "        for name,param in model.named_parameters():\n",
        "            if param.requires_grad == True:\n",
        "                params_to_update.append(param)\n",
        "                print(\"\\t\",name)\n",
        "    else:\n",
        "        for name,param in model.named_parameters():\n",
        "            if param.requires_grad == True:\n",
        "                print(\"\\t\",name)\n",
        "    return params_to_update"
      ],
      "execution_count": null,
      "outputs": []
    },
    {
      "cell_type": "code",
      "metadata": {
        "colab": {
          "base_uri": "https://localhost:8080/"
        },
        "id": "4nxUyDQT-69G",
        "outputId": "b308b5d1-1594-40f3-d743-f83f48352904"
      },
      "source": [
        "params_to_update = param2update(model_t)"
      ],
      "execution_count": null,
      "outputs": [
        {
          "output_type": "stream",
          "name": "stdout",
          "text": [
            "Params to learn:\n",
            "\t conv1.weight\n",
            "\t bn1.weight\n",
            "\t bn1.bias\n",
            "\t layer1.0.conv1.weight\n",
            "\t layer1.0.bn1.weight\n",
            "\t layer1.0.bn1.bias\n",
            "\t layer1.0.conv2.weight\n",
            "\t layer1.0.bn2.weight\n",
            "\t layer1.0.bn2.bias\n",
            "\t layer1.0.conv3.weight\n",
            "\t layer1.0.bn3.weight\n",
            "\t layer1.0.bn3.bias\n",
            "\t layer1.0.downsample.0.weight\n",
            "\t layer1.0.downsample.1.weight\n",
            "\t layer1.0.downsample.1.bias\n",
            "\t layer1.1.conv1.weight\n",
            "\t layer1.1.bn1.weight\n",
            "\t layer1.1.bn1.bias\n",
            "\t layer1.1.conv2.weight\n",
            "\t layer1.1.bn2.weight\n",
            "\t layer1.1.bn2.bias\n",
            "\t layer1.1.conv3.weight\n",
            "\t layer1.1.bn3.weight\n",
            "\t layer1.1.bn3.bias\n",
            "\t layer1.2.conv1.weight\n",
            "\t layer1.2.bn1.weight\n",
            "\t layer1.2.bn1.bias\n",
            "\t layer1.2.conv2.weight\n",
            "\t layer1.2.bn2.weight\n",
            "\t layer1.2.bn2.bias\n",
            "\t layer1.2.conv3.weight\n",
            "\t layer1.2.bn3.weight\n",
            "\t layer1.2.bn3.bias\n",
            "\t layer2.0.conv1.weight\n",
            "\t layer2.0.bn1.weight\n",
            "\t layer2.0.bn1.bias\n",
            "\t layer2.0.conv2.weight\n",
            "\t layer2.0.bn2.weight\n",
            "\t layer2.0.bn2.bias\n",
            "\t layer2.0.conv3.weight\n",
            "\t layer2.0.bn3.weight\n",
            "\t layer2.0.bn3.bias\n",
            "\t layer2.0.downsample.0.weight\n",
            "\t layer2.0.downsample.1.weight\n",
            "\t layer2.0.downsample.1.bias\n",
            "\t layer2.1.conv1.weight\n",
            "\t layer2.1.bn1.weight\n",
            "\t layer2.1.bn1.bias\n",
            "\t layer2.1.conv2.weight\n",
            "\t layer2.1.bn2.weight\n",
            "\t layer2.1.bn2.bias\n",
            "\t layer2.1.conv3.weight\n",
            "\t layer2.1.bn3.weight\n",
            "\t layer2.1.bn3.bias\n",
            "\t layer2.2.conv1.weight\n",
            "\t layer2.2.bn1.weight\n",
            "\t layer2.2.bn1.bias\n",
            "\t layer2.2.conv2.weight\n",
            "\t layer2.2.bn2.weight\n",
            "\t layer2.2.bn2.bias\n",
            "\t layer2.2.conv3.weight\n",
            "\t layer2.2.bn3.weight\n",
            "\t layer2.2.bn3.bias\n",
            "\t layer2.3.conv1.weight\n",
            "\t layer2.3.bn1.weight\n",
            "\t layer2.3.bn1.bias\n",
            "\t layer2.3.conv2.weight\n",
            "\t layer2.3.bn2.weight\n",
            "\t layer2.3.bn2.bias\n",
            "\t layer2.3.conv3.weight\n",
            "\t layer2.3.bn3.weight\n",
            "\t layer2.3.bn3.bias\n",
            "\t layer3.0.conv1.weight\n",
            "\t layer3.0.bn1.weight\n",
            "\t layer3.0.bn1.bias\n",
            "\t layer3.0.conv2.weight\n",
            "\t layer3.0.bn2.weight\n",
            "\t layer3.0.bn2.bias\n",
            "\t layer3.0.conv3.weight\n",
            "\t layer3.0.bn3.weight\n",
            "\t layer3.0.bn3.bias\n",
            "\t layer3.0.downsample.0.weight\n",
            "\t layer3.0.downsample.1.weight\n",
            "\t layer3.0.downsample.1.bias\n",
            "\t layer3.1.conv1.weight\n",
            "\t layer3.1.bn1.weight\n",
            "\t layer3.1.bn1.bias\n",
            "\t layer3.1.conv2.weight\n",
            "\t layer3.1.bn2.weight\n",
            "\t layer3.1.bn2.bias\n",
            "\t layer3.1.conv3.weight\n",
            "\t layer3.1.bn3.weight\n",
            "\t layer3.1.bn3.bias\n",
            "\t layer3.2.conv1.weight\n",
            "\t layer3.2.bn1.weight\n",
            "\t layer3.2.bn1.bias\n",
            "\t layer3.2.conv2.weight\n",
            "\t layer3.2.bn2.weight\n",
            "\t layer3.2.bn2.bias\n",
            "\t layer3.2.conv3.weight\n",
            "\t layer3.2.bn3.weight\n",
            "\t layer3.2.bn3.bias\n",
            "\t layer3.3.conv1.weight\n",
            "\t layer3.3.bn1.weight\n",
            "\t layer3.3.bn1.bias\n",
            "\t layer3.3.conv2.weight\n",
            "\t layer3.3.bn2.weight\n",
            "\t layer3.3.bn2.bias\n",
            "\t layer3.3.conv3.weight\n",
            "\t layer3.3.bn3.weight\n",
            "\t layer3.3.bn3.bias\n",
            "\t layer3.4.conv1.weight\n",
            "\t layer3.4.bn1.weight\n",
            "\t layer3.4.bn1.bias\n",
            "\t layer3.4.conv2.weight\n",
            "\t layer3.4.bn2.weight\n",
            "\t layer3.4.bn2.bias\n",
            "\t layer3.4.conv3.weight\n",
            "\t layer3.4.bn3.weight\n",
            "\t layer3.4.bn3.bias\n",
            "\t layer3.5.conv1.weight\n",
            "\t layer3.5.bn1.weight\n",
            "\t layer3.5.bn1.bias\n",
            "\t layer3.5.conv2.weight\n",
            "\t layer3.5.bn2.weight\n",
            "\t layer3.5.bn2.bias\n",
            "\t layer3.5.conv3.weight\n",
            "\t layer3.5.bn3.weight\n",
            "\t layer3.5.bn3.bias\n",
            "\t layer3.6.conv1.weight\n",
            "\t layer3.6.bn1.weight\n",
            "\t layer3.6.bn1.bias\n",
            "\t layer3.6.conv2.weight\n",
            "\t layer3.6.bn2.weight\n",
            "\t layer3.6.bn2.bias\n",
            "\t layer3.6.conv3.weight\n",
            "\t layer3.6.bn3.weight\n",
            "\t layer3.6.bn3.bias\n",
            "\t layer3.7.conv1.weight\n",
            "\t layer3.7.bn1.weight\n",
            "\t layer3.7.bn1.bias\n",
            "\t layer3.7.conv2.weight\n",
            "\t layer3.7.bn2.weight\n",
            "\t layer3.7.bn2.bias\n",
            "\t layer3.7.conv3.weight\n",
            "\t layer3.7.bn3.weight\n",
            "\t layer3.7.bn3.bias\n",
            "\t layer3.8.conv1.weight\n",
            "\t layer3.8.bn1.weight\n",
            "\t layer3.8.bn1.bias\n",
            "\t layer3.8.conv2.weight\n",
            "\t layer3.8.bn2.weight\n",
            "\t layer3.8.bn2.bias\n",
            "\t layer3.8.conv3.weight\n",
            "\t layer3.8.bn3.weight\n",
            "\t layer3.8.bn3.bias\n",
            "\t layer3.9.conv1.weight\n",
            "\t layer3.9.bn1.weight\n",
            "\t layer3.9.bn1.bias\n",
            "\t layer3.9.conv2.weight\n",
            "\t layer3.9.bn2.weight\n",
            "\t layer3.9.bn2.bias\n",
            "\t layer3.9.conv3.weight\n",
            "\t layer3.9.bn3.weight\n",
            "\t layer3.9.bn3.bias\n",
            "\t layer3.10.conv1.weight\n",
            "\t layer3.10.bn1.weight\n",
            "\t layer3.10.bn1.bias\n",
            "\t layer3.10.conv2.weight\n",
            "\t layer3.10.bn2.weight\n",
            "\t layer3.10.bn2.bias\n",
            "\t layer3.10.conv3.weight\n",
            "\t layer3.10.bn3.weight\n",
            "\t layer3.10.bn3.bias\n",
            "\t layer3.11.conv1.weight\n",
            "\t layer3.11.bn1.weight\n",
            "\t layer3.11.bn1.bias\n",
            "\t layer3.11.conv2.weight\n",
            "\t layer3.11.bn2.weight\n",
            "\t layer3.11.bn2.bias\n",
            "\t layer3.11.conv3.weight\n",
            "\t layer3.11.bn3.weight\n",
            "\t layer3.11.bn3.bias\n",
            "\t layer3.12.conv1.weight\n",
            "\t layer3.12.bn1.weight\n",
            "\t layer3.12.bn1.bias\n",
            "\t layer3.12.conv2.weight\n",
            "\t layer3.12.bn2.weight\n",
            "\t layer3.12.bn2.bias\n",
            "\t layer3.12.conv3.weight\n",
            "\t layer3.12.bn3.weight\n",
            "\t layer3.12.bn3.bias\n",
            "\t layer3.13.conv1.weight\n",
            "\t layer3.13.bn1.weight\n",
            "\t layer3.13.bn1.bias\n",
            "\t layer3.13.conv2.weight\n",
            "\t layer3.13.bn2.weight\n",
            "\t layer3.13.bn2.bias\n",
            "\t layer3.13.conv3.weight\n",
            "\t layer3.13.bn3.weight\n",
            "\t layer3.13.bn3.bias\n",
            "\t layer3.14.conv1.weight\n",
            "\t layer3.14.bn1.weight\n",
            "\t layer3.14.bn1.bias\n",
            "\t layer3.14.conv2.weight\n",
            "\t layer3.14.bn2.weight\n",
            "\t layer3.14.bn2.bias\n",
            "\t layer3.14.conv3.weight\n",
            "\t layer3.14.bn3.weight\n",
            "\t layer3.14.bn3.bias\n",
            "\t layer3.15.conv1.weight\n",
            "\t layer3.15.bn1.weight\n",
            "\t layer3.15.bn1.bias\n",
            "\t layer3.15.conv2.weight\n",
            "\t layer3.15.bn2.weight\n",
            "\t layer3.15.bn2.bias\n",
            "\t layer3.15.conv3.weight\n",
            "\t layer3.15.bn3.weight\n",
            "\t layer3.15.bn3.bias\n",
            "\t layer3.16.conv1.weight\n",
            "\t layer3.16.bn1.weight\n",
            "\t layer3.16.bn1.bias\n",
            "\t layer3.16.conv2.weight\n",
            "\t layer3.16.bn2.weight\n",
            "\t layer3.16.bn2.bias\n",
            "\t layer3.16.conv3.weight\n",
            "\t layer3.16.bn3.weight\n",
            "\t layer3.16.bn3.bias\n",
            "\t layer3.17.conv1.weight\n",
            "\t layer3.17.bn1.weight\n",
            "\t layer3.17.bn1.bias\n",
            "\t layer3.17.conv2.weight\n",
            "\t layer3.17.bn2.weight\n",
            "\t layer3.17.bn2.bias\n",
            "\t layer3.17.conv3.weight\n",
            "\t layer3.17.bn3.weight\n",
            "\t layer3.17.bn3.bias\n",
            "\t layer3.18.conv1.weight\n",
            "\t layer3.18.bn1.weight\n",
            "\t layer3.18.bn1.bias\n",
            "\t layer3.18.conv2.weight\n",
            "\t layer3.18.bn2.weight\n",
            "\t layer3.18.bn2.bias\n",
            "\t layer3.18.conv3.weight\n",
            "\t layer3.18.bn3.weight\n",
            "\t layer3.18.bn3.bias\n",
            "\t layer3.19.conv1.weight\n",
            "\t layer3.19.bn1.weight\n",
            "\t layer3.19.bn1.bias\n",
            "\t layer3.19.conv2.weight\n",
            "\t layer3.19.bn2.weight\n",
            "\t layer3.19.bn2.bias\n",
            "\t layer3.19.conv3.weight\n",
            "\t layer3.19.bn3.weight\n",
            "\t layer3.19.bn3.bias\n",
            "\t layer3.20.conv1.weight\n",
            "\t layer3.20.bn1.weight\n",
            "\t layer3.20.bn1.bias\n",
            "\t layer3.20.conv2.weight\n",
            "\t layer3.20.bn2.weight\n",
            "\t layer3.20.bn2.bias\n",
            "\t layer3.20.conv3.weight\n",
            "\t layer3.20.bn3.weight\n",
            "\t layer3.20.bn3.bias\n",
            "\t layer3.21.conv1.weight\n",
            "\t layer3.21.bn1.weight\n",
            "\t layer3.21.bn1.bias\n",
            "\t layer3.21.conv2.weight\n",
            "\t layer3.21.bn2.weight\n",
            "\t layer3.21.bn2.bias\n",
            "\t layer3.21.conv3.weight\n",
            "\t layer3.21.bn3.weight\n",
            "\t layer3.21.bn3.bias\n",
            "\t layer3.22.conv1.weight\n",
            "\t layer3.22.bn1.weight\n",
            "\t layer3.22.bn1.bias\n",
            "\t layer3.22.conv2.weight\n",
            "\t layer3.22.bn2.weight\n",
            "\t layer3.22.bn2.bias\n",
            "\t layer3.22.conv3.weight\n",
            "\t layer3.22.bn3.weight\n",
            "\t layer3.22.bn3.bias\n",
            "\t layer4.0.conv1.weight\n",
            "\t layer4.0.bn1.weight\n",
            "\t layer4.0.bn1.bias\n",
            "\t layer4.0.conv2.weight\n",
            "\t layer4.0.bn2.weight\n",
            "\t layer4.0.bn2.bias\n",
            "\t layer4.0.conv3.weight\n",
            "\t layer4.0.bn3.weight\n",
            "\t layer4.0.bn3.bias\n",
            "\t layer4.0.downsample.0.weight\n",
            "\t layer4.0.downsample.1.weight\n",
            "\t layer4.0.downsample.1.bias\n",
            "\t layer4.1.conv1.weight\n",
            "\t layer4.1.bn1.weight\n",
            "\t layer4.1.bn1.bias\n",
            "\t layer4.1.conv2.weight\n",
            "\t layer4.1.bn2.weight\n",
            "\t layer4.1.bn2.bias\n",
            "\t layer4.1.conv3.weight\n",
            "\t layer4.1.bn3.weight\n",
            "\t layer4.1.bn3.bias\n",
            "\t layer4.2.conv1.weight\n",
            "\t layer4.2.bn1.weight\n",
            "\t layer4.2.bn1.bias\n",
            "\t layer4.2.conv2.weight\n",
            "\t layer4.2.bn2.weight\n",
            "\t layer4.2.bn2.bias\n",
            "\t layer4.2.conv3.weight\n",
            "\t layer4.2.bn3.weight\n",
            "\t layer4.2.bn3.bias\n",
            "\t fc.weight\n",
            "\t fc.bias\n"
          ]
        }
      ]
    },
    {
      "cell_type": "code",
      "metadata": {
        "id": "dlkGok7Y-66g"
      },
      "source": [
        "class ResNet(nn.Module):\n",
        "    def __init__(self, num_class):\n",
        "        super(ResNet, self).__init__()\n",
        "        net = models.resnet101(pretrained=True)\n",
        "        self.backbone = nn.Sequential(\n",
        "            net.conv1,\n",
        "            net.bn1,\n",
        "            net.relu,\n",
        "            net.maxpool,\n",
        "            net.layer1,\n",
        "            net.layer2,\n",
        "            net.layer3,\n",
        "            net.layer4,\n",
        "            nn.AvgPool2d(kernel_size=1, stride=1, padding=0),\n",
        "        )\n",
        "        num_ftrs = net.fc.in_features\n",
        "        self.classifier = nn.Sequential(\n",
        "            nn.Linear(num_ftrs, num_classes)\n",
        "        )\n",
        "    \n",
        "    def forward(self, x):\n",
        "        x = self.backbone(x)\n",
        "        x = x.view(x.size(0), -1)\n",
        "        x = self.classifier(x)\n",
        "        return x\n",
        "    \n",
        "    def get_config_optim(self, lr, lrp):\n",
        "        return [{ 'params': self.backbone.parameters(), 'lr': lr*lrp},\n",
        "                {'params': self.classifier.parameters()}]"
      ],
      "execution_count": null,
      "outputs": []
    },
    {
      "cell_type": "code",
      "metadata": {
        "colab": {
          "base_uri": "https://localhost:8080/"
        },
        "id": "WCVgJrzR-630",
        "outputId": "85a6241d-8d36-4ba8-faef-ac8213eb2984"
      },
      "source": [
        "model_ftr = ResNet(num_classes)\n",
        "model_ftr.to(device)\n",
        "\n",
        "lr = 0.05\n",
        "# optimizer_ft = optim.Adam(model_ft.get_config_optim(lr, 0.1), lr=lr, betas=(0.9, 0.999))\n",
        "optimizer_ftr = optim.SGD(model_ftr.get_config_optim(lr, 0.1), lr=lr, momentum=0.9)\n",
        "criterion = nn.CrossEntropyLoss()\n",
        "\n",
        "model_ftr, hist_ftr = train_model(model_ftr, dataloaders_dict, criterion, optimizer_ftr, num_epochs=num_epochs)"
      ],
      "execution_count": null,
      "outputs": [
        {
          "output_type": "stream",
          "name": "stdout",
          "text": [
            "Epoch 0/4\n",
            "-----\n"
          ]
        },
        {
          "output_type": "stream",
          "name": "stderr",
          "text": [
            "/usr/local/lib/python3.7/dist-packages/torch/utils/data/dataloader.py:481: UserWarning: This DataLoader will create 4 worker processes in total. Our suggested max number of worker in current system is 2, which is smaller than what this DataLoader is going to create. Please be aware that excessive worker creation might get DataLoader running slow or even freeze, lower the worker number to avoid potential slowness/freeze if necessary.\n",
            "  cpuset_checked))\n"
          ]
        },
        {
          "output_type": "stream",
          "name": "stdout",
          "text": [
            "train Loss: 2.9980 Acc: 0.2756\n",
            "val Loss: 2.2176 Acc: 0.4190\n",
            "\n",
            "Epoch 1/4\n",
            "-----\n",
            "train Loss: 1.9474 Acc: 0.4696\n",
            "val Loss: 1.8159 Acc: 0.5026\n",
            "\n",
            "Epoch 2/4\n",
            "-----\n",
            "train Loss: 1.6076 Acc: 0.5472\n",
            "val Loss: 1.6823 Acc: 0.5360\n",
            "\n",
            "Epoch 3/4\n",
            "-----\n",
            "train Loss: 1.3802 Acc: 0.6055\n",
            "val Loss: 1.6550 Acc: 0.5479\n",
            "\n",
            "Epoch 4/4\n",
            "-----\n",
            "train Loss: 1.2189 Acc: 0.6445\n",
            "val Loss: 1.5944 Acc: 0.5700\n",
            "\n",
            "Training complete in 181m 51s\n",
            "Best val Acc: 0.570000\n"
          ]
        }
      ]
    },
    {
      "cell_type": "code",
      "metadata": {
        "id": "N2AiaUs1BfxS"
      },
      "source": [
        "def plotacc(hist_ftr, num_epochs):\n",
        "    ftr_hist = []\n",
        "    \n",
        "    ftr_hist = [h.cpu().numpy() for h in hist_ftr]\n",
        "\n",
        "    plt.title(\"Validation Accuracy\")\n",
        "    plt.xlabel(\"Training Epochs\")\n",
        "    plt.ylabel(\"Validation Accuracy\")\n",
        "\n",
        "    plt.plot(range(1,num_epochs+1),ftr_hist,label=\"Finetune-relearn\")\n",
        "    plt.ylim((0,1.))\n",
        "    plt.xticks(np.arange(1, num_epochs+1, 2.0))\n",
        "    plt.legend()\n",
        "    plt.show()\n",
        "  "
      ],
      "execution_count": null,
      "outputs": []
    },
    {
      "cell_type": "code",
      "metadata": {
        "id": "ohtrVEzQBgnX",
        "colab": {
          "base_uri": "https://localhost:8080/",
          "height": 295
        },
        "outputId": "7d8a6166-5483-4616-e97c-ce1fa356fe35"
      },
      "source": [
        "plotacc(hist_ftr, num_epochs)"
      ],
      "execution_count": null,
      "outputs": [
        {
          "output_type": "display_data",
          "data": {
            "image/png": "[encoded data removed]",
            "text/plain": [
              "<Figure size 432x288 with 1 Axes>"
            ]
          },
          "metadata": {
            "needs_background": "light"
          }
        }
      ]
    },
    {
      "cell_type": "code",
      "metadata": {
        "id": "9QEbriWOBggg"
      },
      "source": [
        "# save parameters\n",
        "def save_model(save_path):\n",
        "    torch.save(model_ftr.cpu().state_dict(), save_path)\n",
        "    \n",
        "save_path = '/content/drive/MyDrive/Semester 7/TKC/model_ftr_587.pth'\n",
        "save_model(save_path)"
      ],
      "execution_count": null,
      "outputs": []
    },
    {
      "cell_type": "code",
      "metadata": {
        "id": "VIZt2ShQBgbH"
      },
      "source": [
        ""
      ],
      "execution_count": null,
      "outputs": []
    }
  ]
}