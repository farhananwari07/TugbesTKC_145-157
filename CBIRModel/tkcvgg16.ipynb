{
  "nbformat": 4,
  "nbformat_minor": 0,
  "metadata": {
    "colab": {
      "name": "tkcvgg16.ipynb",
      "provenance": [],
      "collapsed_sections": [],
      "include_colab_link": true
    },
    "kernelspec": {
      "name": "python3",
      "display_name": "Python 3"
    },
    "language_info": {
      "name": "python"
    },
    "accelerator": "GPU"
  },
  "cells": [
    {
      "cell_type": "markdown",
      "metadata": {
        "id": "view-in-github",
        "colab_type": "text"
      },
      "source": [
        "<a href=\"https://colab.research.google.com/github/farhananwari07/TugbesTKC_145-157/blob/main/tkcvgg16.ipynb\" target=\"_parent\"><img src=\"https://colab.research.google.com/assets/colab-badge.svg\" alt=\"Open In Colab\"/></a>"
      ]
    },
    {
      "cell_type": "code",
      "source": [
        "from google.colab import drive\n",
        "drive._mount('/content/drive')"
      ],
      "metadata": {
        "colab": {
          "base_uri": "https://localhost:8080/"
        },
        "id": "8JqGpKCqYIVG",
        "outputId": "b9e758fd-7f45-4830-8d2b-2e35cf3620a6"
      },
      "execution_count": null,
      "outputs": [
        {
          "output_type": "stream",
          "name": "stdout",
          "text": [
            "Mounted at /content/drive\n"
          ]
        }
      ]
    },
    {
      "cell_type": "code",
      "execution_count": null,
      "metadata": {
        "id": "V4etshw_YAdg"
      },
      "outputs": [],
      "source": [
        "from keras.models import Sequential\n",
        "from keras.layers import Dense, Dropout, Conv2D, MaxPool2D, Flatten, BatchNormalization, Dropout, GlobalMaxPooling2D\n",
        "from keras.preprocessing.image import ImageDataGenerator\n",
        "from keras.datasets import cifar100\n",
        "from keras.preprocessing import image\n",
        "from keras.utils import np_utils\n",
        "## --------------------------------------------\n",
        "import pandas as pd\n",
        "import numpy as np"
      ]
    },
    {
      "cell_type": "code",
      "source": [
        "(x_train, y_train),(x_test, y_test) = cifar100.load_data()"
      ],
      "metadata": {
        "id": "5tjSMNr-YIX7",
        "colab": {
          "base_uri": "https://localhost:8080/"
        },
        "outputId": "032b6206-7506-4832-c15c-349f1ca3a1b1"
      },
      "execution_count": null,
      "outputs": [
        {
          "output_type": "stream",
          "name": "stdout",
          "text": [
            "Downloading data from https://www.cs.toronto.edu/~kriz/cifar-100-python.tar.gz\n",
            "169009152/169001437 [==============================] - 3s 0us/step\n",
            "169017344/169001437 [==============================] - 3s 0us/step\n"
          ]
        }
      ]
    },
    {
      "cell_type": "code",
      "source": [
        "x_train = x_train.reshape(50000, 32, 32, 3).astype('float32')\n",
        "\n",
        "x_test = x_test.reshape(10000, 32, 32, 3).astype('float32')\n",
        "\n",
        "x_train/=255\n",
        "\n",
        "x_test/=255"
      ],
      "metadata": {
        "id": "pxmVa-C_YIP5"
      },
      "execution_count": null,
      "outputs": []
    },
    {
      "cell_type": "code",
      "source": [
        "y_train = np_utils.to_categorical(y_train, num_classes=100)\n",
        "y_test = np_utils.to_categorical(y_test, num_classes=100)"
      ],
      "metadata": {
        "id": "5q6jyi4aYINC"
      },
      "execution_count": null,
      "outputs": []
    },
    {
      "cell_type": "code",
      "source": [
        "from tensorflow.keras.models import Model\n",
        "from tensorflow.keras.layers import Dense, Flatten, Dropout, Input, GlobalMaxPooling2D, concatenate, MaxPooling2D\n",
        "from tensorflow.keras.applications import ResNet50, DenseNet169, VGG16"
      ],
      "metadata": {
        "id": "VU4UIuBqCdgL"
      },
      "execution_count": null,
      "outputs": []
    },
    {
      "cell_type": "code",
      "source": [
        "vgg16 = VGG16(weights=\"imagenet\", include_top=False, input_shape=(32, 32, 3))\n",
        "model = Sequential()\n",
        "model.add(vgg16)\n",
        "model.add(Dropout(0.25))\n",
        "model.add(BatchNormalization())\n",
        "model.add(GlobalMaxPooling2D())\n",
        "model.add(Flatten())\n",
        "model.add(Dense(units=1024, activation='relu'))\n",
        "model.add(Dense(units=256, activation='relu'))\n",
        "model.add(Dense(units=256, activation='relu'))\n",
        "model.add(Dense(units=100, activation = 'softmax'))"
      ],
      "metadata": {
        "id": "ScQqlyhFDorT"
      },
      "execution_count": null,
      "outputs": []
    },
    {
      "cell_type": "code",
      "source": [
        "model.summary()"
      ],
      "metadata": {
        "colab": {
          "base_uri": "https://localhost:8080/"
        },
        "id": "aoulOA7MB-iA",
        "outputId": "ce6eed9b-f754-402a-cb4c-360455ffc204"
      },
      "execution_count": null,
      "outputs": [
        {
          "output_type": "stream",
          "name": "stdout",
          "text": [
            "Model: \"sequential_13\"\n",
            "_________________________________________________________________\n",
            " Layer (type)                Output Shape              Param #   \n",
            "=================================================================\n",
            " vgg16 (Functional)          (None, 1, 1, 512)         14714688  \n",
            "                                                                 \n",
            " dropout_7 (Dropout)         (None, 1, 1, 512)         0         \n",
            "                                                                 \n",
            " batch_normalization_7 (Batc  (None, 1, 1, 512)        2048      \n",
            " hNormalization)                                                 \n",
            "                                                                 \n",
            " global_max_pooling2d_5 (Glo  (None, 512)              0         \n",
            " balMaxPooling2D)                                                \n",
            "                                                                 \n",
            " flatten_5 (Flatten)         (None, 512)               0         \n",
            "                                                                 \n",
            " dense_23 (Dense)            (None, 1024)              525312    \n",
            "                                                                 \n",
            " dense_24 (Dense)            (None, 256)               262400    \n",
            "                                                                 \n",
            " dense_25 (Dense)            (None, 256)               65792     \n",
            "                                                                 \n",
            " dense_26 (Dense)            (None, 100)               25700     \n",
            "                                                                 \n",
            "=================================================================\n",
            "Total params: 15,595,940\n",
            "Trainable params: 15,594,916\n",
            "Non-trainable params: 1,024\n",
            "_________________________________________________________________\n"
          ]
        }
      ]
    },
    {
      "cell_type": "code",
      "source": [
        "model.compile(loss='categorical_crossentropy', optimizer='adam', metrics=['accuracy'])"
      ],
      "metadata": {
        "id": "B2qCK1ILYper"
      },
      "execution_count": null,
      "outputs": []
    },
    {
      "cell_type": "code",
      "source": [
        "gerador_imagens = ImageDataGenerator(rotation_range=7,\n",
        "                                     horizontal_flip = True,\n",
        "                                     shear_range = 0.2,\n",
        "                                     height_shift_range = 0.07,\n",
        "                                     zoom_range = 0.2)\n",
        "gerador_teste = ImageDataGenerator()"
      ],
      "metadata": {
        "id": "KX2Asqn0Ypbe"
      },
      "execution_count": null,
      "outputs": []
    },
    {
      "cell_type": "code",
      "source": [
        "base_treinamento = gerador_imagens.flow(x_train, y_train, batch_size=128)\n",
        "base_teste = gerador_teste.flow(x_test, y_test, batch_size=128)"
      ],
      "metadata": {
        "id": "4MdZucrwYpYv"
      },
      "execution_count": null,
      "outputs": []
    },
    {
      "cell_type": "code",
      "source": [
        "H = model.fit(base_treinamento, steps_per_epoch=50000/128, epochs=150, validation_data=base_teste, validation_steps=10000/128)"
      ],
      "metadata": {
        "colab": {
          "base_uri": "https://localhost:8080/"
        },
        "id": "9DVDhTFpYpWD",
        "outputId": "3dd26d7d-63d1-4f7a-888b-89b777e4a6b8"
      },
      "execution_count": null,
      "outputs": [
        {
          "output_type": "stream",
          "name": "stdout",
          "text": [
            "Epoch 1/150\n",
            "390/390 [==============================] - 56s 139ms/step - loss: 4.3021 - accuracy: 0.0269 - val_loss: 4.9862 - val_accuracy: 0.0187\n",
            "Epoch 2/150\n",
            "390/390 [==============================] - 54s 137ms/step - loss: 4.1480 - accuracy: 0.0357 - val_loss: 4.2387 - val_accuracy: 0.0300\n",
            "Epoch 3/150\n",
            "390/390 [==============================] - 54s 137ms/step - loss: 4.1036 - accuracy: 0.0368 - val_loss: 252578.7188 - val_accuracy: 0.0110\n",
            "Epoch 4/150\n",
            "390/390 [==============================] - 54s 137ms/step - loss: 4.0623 - accuracy: 0.0396 - val_loss: 4.0194 - val_accuracy: 0.0400\n",
            "Epoch 5/150\n",
            "390/390 [==============================] - 54s 137ms/step - loss: 4.0360 - accuracy: 0.0424 - val_loss: 4.0052 - val_accuracy: 0.0411\n",
            "Epoch 6/150\n",
            "390/390 [==============================] - 54s 138ms/step - loss: 4.0109 - accuracy: 0.0452 - val_loss: 6.5787 - val_accuracy: 0.0186\n",
            "Epoch 7/150\n",
            "390/390 [==============================] - 54s 137ms/step - loss: 3.9844 - accuracy: 0.0477 - val_loss: 3.9620 - val_accuracy: 0.0528\n",
            "Epoch 8/150\n",
            "390/390 [==============================] - 54s 137ms/step - loss: 3.9073 - accuracy: 0.0544 - val_loss: 3.8702 - val_accuracy: 0.0690\n",
            "Epoch 9/150\n",
            "390/390 [==============================] - 54s 137ms/step - loss: 3.7286 - accuracy: 0.0793 - val_loss: 3.6623 - val_accuracy: 0.0986\n",
            "Epoch 10/150\n",
            "390/390 [==============================] - 54s 137ms/step - loss: 3.6218 - accuracy: 0.0953 - val_loss: 3.7976 - val_accuracy: 0.0822\n",
            "Epoch 11/150\n",
            "390/390 [==============================] - 54s 137ms/step - loss: 3.5258 - accuracy: 0.1098 - val_loss: 3.6101 - val_accuracy: 0.1048\n",
            "Epoch 12/150\n",
            "390/390 [==============================] - 53s 137ms/step - loss: 3.4547 - accuracy: 0.1189 - val_loss: 3.4752 - val_accuracy: 0.1160\n",
            "Epoch 13/150\n",
            "390/390 [==============================] - 54s 138ms/step - loss: 3.3932 - accuracy: 0.1269 - val_loss: 3.4254 - val_accuracy: 0.1314\n",
            "Epoch 14/150\n",
            "390/390 [==============================] - 54s 137ms/step - loss: 3.3439 - accuracy: 0.1330 - val_loss: 3.5876 - val_accuracy: 0.1128\n",
            "Epoch 15/150\n",
            "390/390 [==============================] - 54s 137ms/step - loss: 3.2955 - accuracy: 0.1429 - val_loss: 1064843.8750 - val_accuracy: 0.0737\n",
            "Epoch 16/150\n",
            "390/390 [==============================] - 54s 137ms/step - loss: 3.2614 - accuracy: 0.1477 - val_loss: 3.3881 - val_accuracy: 0.1355\n",
            "Epoch 17/150\n",
            "390/390 [==============================] - 54s 137ms/step - loss: 3.2067 - accuracy: 0.1615 - val_loss: 6186.6572 - val_accuracy: 0.1559\n",
            "Epoch 18/150\n",
            "390/390 [==============================] - 54s 137ms/step - loss: 3.1703 - accuracy: 0.1650 - val_loss: 3.5007 - val_accuracy: 0.1328\n",
            "Epoch 19/150\n",
            "390/390 [==============================] - 53s 137ms/step - loss: 3.1361 - accuracy: 0.1722 - val_loss: 3.2592 - val_accuracy: 0.1699\n",
            "Epoch 20/150\n",
            "390/390 [==============================] - 53s 137ms/step - loss: 3.0983 - accuracy: 0.1783 - val_loss: 3.6793 - val_accuracy: 0.1266\n",
            "Epoch 21/150\n",
            "390/390 [==============================] - 53s 136ms/step - loss: 3.0775 - accuracy: 0.1817 - val_loss: 3.1677 - val_accuracy: 0.1714\n",
            "Epoch 22/150\n",
            "390/390 [==============================] - 54s 137ms/step - loss: 3.0407 - accuracy: 0.1898 - val_loss: 3.0350 - val_accuracy: 0.2077\n",
            "Epoch 23/150\n",
            "390/390 [==============================] - 53s 137ms/step - loss: 3.0154 - accuracy: 0.1989 - val_loss: 3.0488 - val_accuracy: 0.1889\n",
            "Epoch 24/150\n",
            "390/390 [==============================] - 53s 137ms/step - loss: 2.9719 - accuracy: 0.2062 - val_loss: 3.1909 - val_accuracy: 0.1861\n",
            "Epoch 25/150\n",
            "390/390 [==============================] - 53s 137ms/step - loss: 2.9510 - accuracy: 0.2124 - val_loss: 3.0200 - val_accuracy: 0.2032\n",
            "Epoch 26/150\n",
            "390/390 [==============================] - 53s 136ms/step - loss: 2.9239 - accuracy: 0.2191 - val_loss: 3.0689 - val_accuracy: 0.1922\n",
            "Epoch 27/150\n",
            "390/390 [==============================] - 53s 136ms/step - loss: 2.8902 - accuracy: 0.2260 - val_loss: 286.7226 - val_accuracy: 0.1988\n",
            "Epoch 28/150\n",
            "390/390 [==============================] - 53s 136ms/step - loss: 2.8331 - accuracy: 0.2372 - val_loss: 2.8676 - val_accuracy: 0.2398\n",
            "Epoch 29/150\n",
            "390/390 [==============================] - 53s 136ms/step - loss: 2.7549 - accuracy: 0.2502 - val_loss: 2.7904 - val_accuracy: 0.2586\n",
            "Epoch 30/150\n",
            "390/390 [==============================] - 53s 136ms/step - loss: 2.7027 - accuracy: 0.2631 - val_loss: 2.9859 - val_accuracy: 0.2259\n",
            "Epoch 31/150\n",
            "390/390 [==============================] - 54s 137ms/step - loss: 2.6146 - accuracy: 0.2802 - val_loss: 1213.7633 - val_accuracy: 0.2747\n",
            "Epoch 32/150\n",
            "390/390 [==============================] - 53s 136ms/step - loss: 2.5441 - accuracy: 0.2954 - val_loss: 2.6286 - val_accuracy: 0.2826\n",
            "Epoch 33/150\n",
            "390/390 [==============================] - 53s 136ms/step - loss: 2.4709 - accuracy: 0.3134 - val_loss: 2.6234 - val_accuracy: 0.2924\n",
            "Epoch 34/150\n",
            "390/390 [==============================] - 53s 137ms/step - loss: 2.4159 - accuracy: 0.3277 - val_loss: 2.5540 - val_accuracy: 0.3177\n",
            "Epoch 35/150\n",
            "390/390 [==============================] - 53s 136ms/step - loss: 2.3523 - accuracy: 0.3418 - val_loss: 2.5222 - val_accuracy: 0.3171\n",
            "Epoch 36/150\n",
            "390/390 [==============================] - 53s 136ms/step - loss: 2.2925 - accuracy: 0.3599 - val_loss: 2.4841 - val_accuracy: 0.3353\n",
            "Epoch 37/150\n",
            "390/390 [==============================] - 53s 136ms/step - loss: 2.2435 - accuracy: 0.3700 - val_loss: 2.4414 - val_accuracy: 0.3512\n",
            "Epoch 38/150\n",
            "390/390 [==============================] - 53s 137ms/step - loss: 2.1950 - accuracy: 0.3795 - val_loss: 2.4134 - val_accuracy: 0.3624\n",
            "Epoch 39/150\n",
            "390/390 [==============================] - 54s 137ms/step - loss: 2.1370 - accuracy: 0.3972 - val_loss: 2.3507 - val_accuracy: 0.3742\n",
            "Epoch 40/150\n",
            "390/390 [==============================] - 53s 136ms/step - loss: 2.1070 - accuracy: 0.4065 - val_loss: 2.2741 - val_accuracy: 0.3837\n",
            "Epoch 41/150\n",
            "390/390 [==============================] - 53s 137ms/step - loss: 2.0633 - accuracy: 0.4179 - val_loss: 2.2901 - val_accuracy: 0.3888\n",
            "Epoch 42/150\n",
            "390/390 [==============================] - 54s 137ms/step - loss: 2.0224 - accuracy: 0.4318 - val_loss: 988.4647 - val_accuracy: 0.4002\n",
            "Epoch 43/150\n",
            "390/390 [==============================] - 54s 137ms/step - loss: 1.9806 - accuracy: 0.4446 - val_loss: 7420.8110 - val_accuracy: 0.3974\n",
            "Epoch 44/150\n",
            "390/390 [==============================] - 53s 137ms/step - loss: 1.9643 - accuracy: 0.4470 - val_loss: 9946.5566 - val_accuracy: 0.3927\n",
            "Epoch 45/150\n",
            "390/390 [==============================] - 53s 137ms/step - loss: 1.9217 - accuracy: 0.4622 - val_loss: 2.3452 - val_accuracy: 0.4022\n",
            "Epoch 46/150\n",
            "390/390 [==============================] - 54s 137ms/step - loss: 1.8766 - accuracy: 0.4710 - val_loss: 17644.9824 - val_accuracy: 0.4305\n",
            "Epoch 47/150\n",
            "390/390 [==============================] - 53s 136ms/step - loss: 1.8605 - accuracy: 0.4747 - val_loss: 15710.5664 - val_accuracy: 0.4364\n",
            "Epoch 48/150\n",
            "390/390 [==============================] - 53s 137ms/step - loss: 1.8217 - accuracy: 0.4883 - val_loss: 2.2225 - val_accuracy: 0.4316\n",
            "Epoch 49/150\n",
            "390/390 [==============================] - 54s 137ms/step - loss: 1.7999 - accuracy: 0.4940 - val_loss: 2.1921 - val_accuracy: 0.4313\n",
            "Epoch 50/150\n",
            "390/390 [==============================] - 54s 137ms/step - loss: 1.7698 - accuracy: 0.5026 - val_loss: 2.1904 - val_accuracy: 0.4319\n",
            "Epoch 51/150\n",
            "390/390 [==============================] - 54s 137ms/step - loss: 1.7307 - accuracy: 0.5118 - val_loss: 2.1344 - val_accuracy: 0.4502\n",
            "Epoch 52/150\n",
            "390/390 [==============================] - 53s 137ms/step - loss: 1.7069 - accuracy: 0.5190 - val_loss: 2.1490 - val_accuracy: 0.4461\n",
            "Epoch 53/150\n",
            "390/390 [==============================] - 54s 137ms/step - loss: 1.6870 - accuracy: 0.5239 - val_loss: 160.8934 - val_accuracy: 0.4682\n",
            "Epoch 54/150\n",
            "390/390 [==============================] - 54s 137ms/step - loss: 1.6632 - accuracy: 0.5328 - val_loss: 7244.4551 - val_accuracy: 0.4736\n",
            "Epoch 55/150\n",
            "390/390 [==============================] - 54s 137ms/step - loss: 1.6444 - accuracy: 0.5378 - val_loss: 9.9516 - val_accuracy: 0.4518\n",
            "Epoch 56/150\n",
            "390/390 [==============================] - 54s 137ms/step - loss: 1.6084 - accuracy: 0.5469 - val_loss: 2.0869 - val_accuracy: 0.4739\n",
            "Epoch 57/150\n",
            "390/390 [==============================] - 54s 137ms/step - loss: 1.5916 - accuracy: 0.5520 - val_loss: 2.0395 - val_accuracy: 0.4777\n",
            "Epoch 58/150\n",
            "390/390 [==============================] - 54s 137ms/step - loss: 1.5714 - accuracy: 0.5580 - val_loss: 2.0811 - val_accuracy: 0.4669\n",
            "Epoch 59/150\n",
            "390/390 [==============================] - 53s 137ms/step - loss: 1.5694 - accuracy: 0.5589 - val_loss: 2.0670 - val_accuracy: 0.4810\n",
            "Epoch 60/150\n",
            "390/390 [==============================] - 53s 136ms/step - loss: 1.5247 - accuracy: 0.5720 - val_loss: 6968.5698 - val_accuracy: 0.4964\n",
            "Epoch 61/150\n",
            "390/390 [==============================] - 54s 137ms/step - loss: 1.5163 - accuracy: 0.5746 - val_loss: 5846.4102 - val_accuracy: 0.4894\n",
            "Epoch 62/150\n",
            "390/390 [==============================] - 53s 136ms/step - loss: 1.4809 - accuracy: 0.5850 - val_loss: 1.9831 - val_accuracy: 0.4942\n",
            "Epoch 63/150\n",
            "390/390 [==============================] - 53s 137ms/step - loss: 1.4683 - accuracy: 0.5893 - val_loss: 216.1572 - val_accuracy: 0.4772\n",
            "Epoch 64/150\n",
            "390/390 [==============================] - 54s 137ms/step - loss: 1.4660 - accuracy: 0.5900 - val_loss: 5816.2217 - val_accuracy: 0.4972\n",
            "Epoch 65/150\n",
            "390/390 [==============================] - 54s 137ms/step - loss: 1.4382 - accuracy: 0.5962 - val_loss: 4848.1030 - val_accuracy: 0.4928\n",
            "Epoch 66/150\n",
            "390/390 [==============================] - 54s 137ms/step - loss: 1.4336 - accuracy: 0.5970 - val_loss: 2.0471 - val_accuracy: 0.4899\n",
            "Epoch 67/150\n",
            "390/390 [==============================] - 53s 136ms/step - loss: 1.3980 - accuracy: 0.6077 - val_loss: 2.0336 - val_accuracy: 0.5028\n",
            "Epoch 68/150\n",
            "390/390 [==============================] - 53s 137ms/step - loss: 1.3755 - accuracy: 0.6135 - val_loss: 2.1884 - val_accuracy: 0.4840\n",
            "Epoch 69/150\n",
            "390/390 [==============================] - 53s 137ms/step - loss: 1.3663 - accuracy: 0.6180 - val_loss: 3562.6016 - val_accuracy: 0.4972\n",
            "Epoch 70/150\n",
            "390/390 [==============================] - 54s 138ms/step - loss: 1.3410 - accuracy: 0.6223 - val_loss: 2.1016 - val_accuracy: 0.4864\n",
            "Epoch 71/150\n",
            "390/390 [==============================] - 54s 138ms/step - loss: 1.3392 - accuracy: 0.6221 - val_loss: 2.0282 - val_accuracy: 0.4980\n",
            "Epoch 72/150\n",
            "390/390 [==============================] - 54s 138ms/step - loss: 1.3169 - accuracy: 0.6301 - val_loss: 2.0288 - val_accuracy: 0.5095\n",
            "Epoch 73/150\n",
            "390/390 [==============================] - 54s 138ms/step - loss: 1.3092 - accuracy: 0.6332 - val_loss: 2314.9351 - val_accuracy: 0.5160\n",
            "Epoch 74/150\n",
            "390/390 [==============================] - 53s 137ms/step - loss: 1.2844 - accuracy: 0.6383 - val_loss: 1.9498 - val_accuracy: 0.5227\n",
            "Epoch 75/150\n",
            "390/390 [==============================] - 54s 138ms/step - loss: 1.2830 - accuracy: 0.6425 - val_loss: 1.9570 - val_accuracy: 0.5199\n",
            "Epoch 76/150\n",
            "390/390 [==============================] - 54s 138ms/step - loss: 1.2529 - accuracy: 0.6492 - val_loss: 1.9772 - val_accuracy: 0.5171\n",
            "Epoch 77/150\n",
            "390/390 [==============================] - 54s 138ms/step - loss: 1.2529 - accuracy: 0.6512 - val_loss: 2.0544 - val_accuracy: 0.5047\n",
            "Epoch 78/150\n",
            "390/390 [==============================] - 54s 138ms/step - loss: 1.2327 - accuracy: 0.6565 - val_loss: 2.1292 - val_accuracy: 0.5015\n",
            "Epoch 79/150\n",
            "390/390 [==============================] - 54s 137ms/step - loss: 1.2303 - accuracy: 0.6575 - val_loss: 31.1996 - val_accuracy: 0.5301\n",
            "Epoch 80/150\n",
            "390/390 [==============================] - 54s 138ms/step - loss: 1.2153 - accuracy: 0.6610 - val_loss: 2.0308 - val_accuracy: 0.5268\n",
            "Epoch 81/150\n",
            "390/390 [==============================] - 54s 137ms/step - loss: 1.2001 - accuracy: 0.6653 - val_loss: 2.0355 - val_accuracy: 0.5250\n",
            "Epoch 82/150\n",
            "390/390 [==============================] - 54s 138ms/step - loss: 1.1890 - accuracy: 0.6670 - val_loss: 2.0126 - val_accuracy: 0.5225\n",
            "Epoch 83/150\n",
            "390/390 [==============================] - 54s 138ms/step - loss: 1.1767 - accuracy: 0.6698 - val_loss: 4.1939 - val_accuracy: 0.5372\n",
            "Epoch 84/150\n",
            "390/390 [==============================] - 54s 137ms/step - loss: 1.1384 - accuracy: 0.6816 - val_loss: 2.2117 - val_accuracy: 0.5168\n",
            "Epoch 85/150\n",
            "390/390 [==============================] - 54s 138ms/step - loss: 1.1581 - accuracy: 0.6741 - val_loss: 1.8841 - val_accuracy: 0.5467\n",
            "Epoch 86/150\n",
            "390/390 [==============================] - 54s 137ms/step - loss: 1.1245 - accuracy: 0.6854 - val_loss: 2.0213 - val_accuracy: 0.5314\n",
            "Epoch 87/150\n",
            "390/390 [==============================] - 54s 137ms/step - loss: 1.1129 - accuracy: 0.6898 - val_loss: 1.9664 - val_accuracy: 0.5367\n",
            "Epoch 88/150\n",
            "390/390 [==============================] - 54s 137ms/step - loss: 1.1117 - accuracy: 0.6898 - val_loss: 2232.9761 - val_accuracy: 0.5243\n",
            "Epoch 89/150\n",
            "390/390 [==============================] - 54s 137ms/step - loss: 1.1004 - accuracy: 0.6924 - val_loss: 7663.5024 - val_accuracy: 0.5306\n",
            "Epoch 90/150\n",
            "390/390 [==============================] - 53s 137ms/step - loss: 1.0729 - accuracy: 0.6995 - val_loss: 2.0808 - val_accuracy: 0.5321\n",
            "Epoch 91/150\n",
            "390/390 [==============================] - 54s 137ms/step - loss: 1.0812 - accuracy: 0.6978 - val_loss: 96040.0156 - val_accuracy: 0.5457\n",
            "Epoch 92/150\n",
            "390/390 [==============================] - 54s 138ms/step - loss: 1.0648 - accuracy: 0.7014 - val_loss: 331.0075 - val_accuracy: 0.5350\n",
            "Epoch 93/150\n",
            "390/390 [==============================] - 54s 138ms/step - loss: 1.0553 - accuracy: 0.7054 - val_loss: 1818.8293 - val_accuracy: 0.5402\n",
            "Epoch 94/150\n",
            "390/390 [==============================] - 54s 138ms/step - loss: 1.0216 - accuracy: 0.7147 - val_loss: 1.9728 - val_accuracy: 0.5484\n",
            "Epoch 95/150\n",
            "390/390 [==============================] - 54s 138ms/step - loss: 1.0300 - accuracy: 0.7147 - val_loss: 1.9904 - val_accuracy: 0.5445\n",
            "Epoch 96/150\n",
            "390/390 [==============================] - 54s 138ms/step - loss: 1.0089 - accuracy: 0.7177 - val_loss: 2.0036 - val_accuracy: 0.5492\n",
            "Epoch 97/150\n",
            "390/390 [==============================] - 54s 138ms/step - loss: 1.0096 - accuracy: 0.7202 - val_loss: 498.7697 - val_accuracy: 0.5408\n",
            "Epoch 98/150\n",
            "390/390 [==============================] - 54s 138ms/step - loss: 0.9985 - accuracy: 0.7212 - val_loss: 2.1162 - val_accuracy: 0.5315\n",
            "Epoch 99/150\n",
            "390/390 [==============================] - 54s 138ms/step - loss: 1.0024 - accuracy: 0.7199 - val_loss: 7171.4639 - val_accuracy: 0.5415\n",
            "Epoch 100/150\n",
            "390/390 [==============================] - 54s 138ms/step - loss: 0.9781 - accuracy: 0.7288 - val_loss: 41202.8047 - val_accuracy: 0.5464\n",
            "Epoch 101/150\n",
            "390/390 [==============================] - 54s 138ms/step - loss: 0.9692 - accuracy: 0.7277 - val_loss: 1.9976 - val_accuracy: 0.5511\n",
            "Epoch 102/150\n",
            "390/390 [==============================] - 54s 138ms/step - loss: 0.9668 - accuracy: 0.7317 - val_loss: 2.1266 - val_accuracy: 0.5557\n",
            "Epoch 103/150\n",
            "390/390 [==============================] - 54s 138ms/step - loss: 0.9528 - accuracy: 0.7331 - val_loss: 2.0236 - val_accuracy: 0.5482\n",
            "Epoch 104/150\n",
            "390/390 [==============================] - 54s 138ms/step - loss: 0.9391 - accuracy: 0.7362 - val_loss: 2.0786 - val_accuracy: 0.5407\n",
            "Epoch 105/150\n",
            "390/390 [==============================] - 54s 138ms/step - loss: 0.9346 - accuracy: 0.7417 - val_loss: 2.0051 - val_accuracy: 0.5532\n",
            "Epoch 106/150\n",
            "390/390 [==============================] - 54s 138ms/step - loss: 0.9212 - accuracy: 0.7451 - val_loss: 2.0066 - val_accuracy: 0.5531\n",
            "Epoch 107/150\n",
            "390/390 [==============================] - 54s 138ms/step - loss: 0.9026 - accuracy: 0.7495 - val_loss: 1.9899 - val_accuracy: 0.5537\n",
            "Epoch 108/150\n",
            "390/390 [==============================] - 54s 138ms/step - loss: 0.9113 - accuracy: 0.7456 - val_loss: 1.9541 - val_accuracy: 0.5584\n",
            "Epoch 109/150\n",
            "390/390 [==============================] - 54s 138ms/step - loss: 0.9006 - accuracy: 0.7505 - val_loss: 1.9097 - val_accuracy: 0.5712\n",
            "Epoch 110/150\n",
            "390/390 [==============================] - 54s 138ms/step - loss: 0.8742 - accuracy: 0.7564 - val_loss: 2.0104 - val_accuracy: 0.5580\n",
            "Epoch 111/150\n",
            "390/390 [==============================] - 54s 139ms/step - loss: 0.8720 - accuracy: 0.7570 - val_loss: 2.0367 - val_accuracy: 0.5558\n",
            "Epoch 112/150\n",
            "390/390 [==============================] - 54s 138ms/step - loss: 0.8686 - accuracy: 0.7584 - val_loss: 2.0505 - val_accuracy: 0.5518\n",
            "Epoch 113/150\n",
            "390/390 [==============================] - 54s 138ms/step - loss: 0.8563 - accuracy: 0.7616 - val_loss: 46.1475 - val_accuracy: 0.5603\n",
            "Epoch 114/150\n",
            "390/390 [==============================] - 54s 138ms/step - loss: 0.8466 - accuracy: 0.7637 - val_loss: 4663.7666 - val_accuracy: 0.5572\n",
            "Epoch 115/150\n",
            "390/390 [==============================] - 54s 139ms/step - loss: 0.8429 - accuracy: 0.7664 - val_loss: 1.9844 - val_accuracy: 0.5575\n",
            "Epoch 116/150\n",
            "390/390 [==============================] - 54s 139ms/step - loss: 0.8394 - accuracy: 0.7655 - val_loss: 1.9977 - val_accuracy: 0.5607\n",
            "Epoch 117/150\n",
            "390/390 [==============================] - 54s 139ms/step - loss: 0.8228 - accuracy: 0.7711 - val_loss: 19.0209 - val_accuracy: 0.5593\n",
            "Epoch 118/150\n",
            "390/390 [==============================] - 54s 138ms/step - loss: 0.8168 - accuracy: 0.7719 - val_loss: 1.9875 - val_accuracy: 0.5625\n",
            "Epoch 119/150\n",
            "390/390 [==============================] - 54s 138ms/step - loss: 0.8024 - accuracy: 0.7783 - val_loss: 1.9318 - val_accuracy: 0.5727\n",
            "Epoch 120/150\n",
            "390/390 [==============================] - 54s 138ms/step - loss: 0.7960 - accuracy: 0.7781 - val_loss: 2.0497 - val_accuracy: 0.5585\n",
            "Epoch 121/150\n",
            "390/390 [==============================] - 54s 138ms/step - loss: 0.7849 - accuracy: 0.7792 - val_loss: 2.1085 - val_accuracy: 0.5541\n",
            "Epoch 122/150\n",
            "390/390 [==============================] - 54s 138ms/step - loss: 0.7926 - accuracy: 0.7783 - val_loss: 1.9828 - val_accuracy: 0.5685\n",
            "Epoch 123/150\n",
            "390/390 [==============================] - 54s 138ms/step - loss: 0.7774 - accuracy: 0.7841 - val_loss: 2.0494 - val_accuracy: 0.5664\n",
            "Epoch 124/150\n",
            "390/390 [==============================] - 54s 139ms/step - loss: 0.7671 - accuracy: 0.7855 - val_loss: 1.9935 - val_accuracy: 0.5706\n",
            "Epoch 125/150\n",
            "390/390 [==============================] - 54s 138ms/step - loss: 0.7798 - accuracy: 0.7837 - val_loss: 24143.9609 - val_accuracy: 0.5602\n",
            "Epoch 126/150\n",
            "390/390 [==============================] - 54s 139ms/step - loss: 0.7453 - accuracy: 0.7913 - val_loss: 21338.8359 - val_accuracy: 0.5560\n",
            "Epoch 127/150\n",
            "390/390 [==============================] - 54s 138ms/step - loss: 0.7521 - accuracy: 0.7894 - val_loss: 1.9939 - val_accuracy: 0.5710\n",
            "Epoch 128/150\n",
            "390/390 [==============================] - 54s 138ms/step - loss: 0.7434 - accuracy: 0.7940 - val_loss: 2.0165 - val_accuracy: 0.5702\n",
            "Epoch 129/150\n",
            "390/390 [==============================] - 54s 139ms/step - loss: 0.7177 - accuracy: 0.8009 - val_loss: 3871.1731 - val_accuracy: 0.5721\n",
            "Epoch 130/150\n",
            "390/390 [==============================] - 54s 139ms/step - loss: 0.7302 - accuracy: 0.7956 - val_loss: 2.0513 - val_accuracy: 0.5696\n",
            "Epoch 131/150\n",
            "390/390 [==============================] - 54s 139ms/step - loss: 0.7185 - accuracy: 0.7998 - val_loss: 2.0936 - val_accuracy: 0.5670\n",
            "Epoch 132/150\n",
            "390/390 [==============================] - 54s 138ms/step - loss: 0.7204 - accuracy: 0.8017 - val_loss: 2.0549 - val_accuracy: 0.5728\n",
            "Epoch 133/150\n",
            "390/390 [==============================] - 54s 138ms/step - loss: 0.7035 - accuracy: 0.8057 - val_loss: 23705.5449 - val_accuracy: 0.5687\n",
            "Epoch 134/150\n",
            "390/390 [==============================] - 54s 139ms/step - loss: 0.7064 - accuracy: 0.8034 - val_loss: 2.0186 - val_accuracy: 0.5766\n",
            "Epoch 135/150\n",
            "390/390 [==============================] - 54s 138ms/step - loss: 0.6930 - accuracy: 0.8085 - val_loss: 2.2299 - val_accuracy: 0.5545\n",
            "Epoch 136/150\n",
            "390/390 [==============================] - 54s 139ms/step - loss: 0.6819 - accuracy: 0.8098 - val_loss: 2.1145 - val_accuracy: 0.5720\n",
            "Epoch 137/150\n",
            "390/390 [==============================] - 54s 137ms/step - loss: 0.6784 - accuracy: 0.8102 - val_loss: 2.1047 - val_accuracy: 0.5764\n",
            "Epoch 138/150\n",
            "390/390 [==============================] - 54s 138ms/step - loss: 0.6737 - accuracy: 0.8130 - val_loss: 2.0938 - val_accuracy: 0.5689\n",
            "Epoch 139/150\n",
            "390/390 [==============================] - 54s 138ms/step - loss: 0.6664 - accuracy: 0.8150 - val_loss: 2.0276 - val_accuracy: 0.5795\n",
            "Epoch 140/150\n",
            "390/390 [==============================] - 54s 138ms/step - loss: 0.6454 - accuracy: 0.8193 - val_loss: 2.1471 - val_accuracy: 0.5747\n",
            "Epoch 141/150\n",
            "390/390 [==============================] - 54s 139ms/step - loss: 0.6570 - accuracy: 0.8169 - val_loss: 2.1386 - val_accuracy: 0.5721\n",
            "Epoch 142/150\n",
            "390/390 [==============================] - 54s 138ms/step - loss: 0.6394 - accuracy: 0.8195 - val_loss: 2.1514 - val_accuracy: 0.5665\n",
            "Epoch 143/150\n",
            "390/390 [==============================] - 54s 138ms/step - loss: 0.6385 - accuracy: 0.8224 - val_loss: 5450.3896 - val_accuracy: 0.5675\n",
            "Epoch 144/150\n",
            "390/390 [==============================] - 53s 137ms/step - loss: 0.6360 - accuracy: 0.8235 - val_loss: 2.1388 - val_accuracy: 0.5718\n",
            "Epoch 145/150\n",
            "390/390 [==============================] - 53s 135ms/step - loss: 0.6264 - accuracy: 0.8262 - val_loss: 2.1239 - val_accuracy: 0.5661\n",
            "Epoch 146/150\n",
            "390/390 [==============================] - 53s 136ms/step - loss: 0.6267 - accuracy: 0.8258 - val_loss: 2.0598 - val_accuracy: 0.5805\n",
            "Epoch 147/150\n",
            "390/390 [==============================] - 54s 139ms/step - loss: 0.6133 - accuracy: 0.8317 - val_loss: 2.1576 - val_accuracy: 0.5743\n",
            "Epoch 148/150\n",
            "390/390 [==============================] - 54s 139ms/step - loss: 0.6121 - accuracy: 0.8288 - val_loss: 2.0927 - val_accuracy: 0.5736\n",
            "Epoch 149/150\n",
            "390/390 [==============================] - 54s 138ms/step - loss: 0.6138 - accuracy: 0.8310 - val_loss: 2.0249 - val_accuracy: 0.5822\n",
            "Epoch 150/150\n",
            "390/390 [==============================] - 54s 139ms/step - loss: 0.5922 - accuracy: 0.8349 - val_loss: 212.3396 - val_accuracy: 0.5810\n"
          ]
        }
      ]
    },
    {
      "cell_type": "code",
      "source": [
        "import numpy as np\n",
        "import matplotlib.pyplot as plt\n",
        "\n",
        "plt.style.use(\"ggplot\")\n",
        "plt.figure()\n",
        "plt.plot(np.arange(0, 150), H.history[\"loss\"], label=\"train_loss\")\n",
        "plt.plot(np.arange(0, 150), H.history[\"val_loss\"], label=\"val_loss\")\n",
        "plt.title(\"Loss Plot\")\n",
        "plt.xlabel(\"Epoch #\")\n",
        "plt.ylabel(\"Loss\")"
      ],
      "metadata": {
        "id": "w9J2Vkw8YpTj",
        "colab": {
          "base_uri": "https://localhost:8080/",
          "height": 316
        },
        "outputId": "e491c46a-10e6-4d01-8b56-6457cceae9e9"
      },
      "execution_count": null,
      "outputs": [
        {
          "output_type": "execute_result",
          "data": {
            "text/plain": [
              "Text(0, 0.5, 'Loss')"
            ]
          },
          "metadata": {},
          "execution_count": 80
        },
        {
          "output_type": "display_data",
          "data": {
            "image/png": "[encoded data removed]",
            "text/plain": [
              "<Figure size 432x288 with 1 Axes>"
            ]
          },
          "metadata": {}
        }
      ]
    },
    {
      "cell_type": "code",
      "source": [
        "plt.style.use(\"ggplot\")\n",
        "plt.figure()\n",
        "plt.plot(np.arange(0, 150), H.history[\"accuracy\"], label=\"train_acc\")\n",
        "plt.plot(np.arange(0, 150), H.history[\"val_accuracy\"], label=\"val_acc\")\n",
        "plt.title(\"Accuracy Plot\")\n",
        "plt.xlabel(\"Epoch #\")\n",
        "plt.ylabel(\"Acc\")\n",
        "plt.legend()\n",
        "plt.show()"
      ],
      "metadata": {
        "id": "AVpYxuFYYpQz",
        "colab": {
          "base_uri": "https://localhost:8080/",
          "height": 299
        },
        "outputId": "ff778500-1afa-4fb9-a7d9-cccef23e425f"
      },
      "execution_count": null,
      "outputs": [
        {
          "output_type": "display_data",
          "data": {
            "image/png": "[encoded data removed]",
            "text/plain": [
              "<Figure size 432x288 with 1 Axes>"
            ]
          },
          "metadata": {}
        }
      ]
    },
    {
      "cell_type": "code",
      "source": [
        "from sklearn.metrics import classification_report\n",
        "\n",
        "pred = model.predict(x_test)\n",
        "labels = (pred > 0.5).astype(np.int)\n",
        "\n",
        "print(classification_report(y_test, labels))"
      ],
      "metadata": {
        "colab": {
          "base_uri": "https://localhost:8080/"
        },
        "id": "ofGV5luro1iS",
        "outputId": "953e0c6f-8569-48e9-a7ab-60b912ce5eaa"
      },
      "execution_count": null,
      "outputs": [
        {
          "output_type": "stream",
          "name": "stdout",
          "text": [
            "              precision    recall  f1-score   support\n",
            "\n",
            "           0       0.95      0.55      0.70       100\n",
            "           1       0.86      0.59      0.70       100\n",
            "           2       0.74      0.26      0.39       100\n",
            "           3       0.49      0.20      0.28       100\n",
            "           4       0.71      0.25      0.37       100\n",
            "           5       0.69      0.55      0.61       100\n",
            "           6       0.61      0.67      0.64       100\n",
            "           7       0.77      0.55      0.64       100\n",
            "           8       0.85      0.80      0.82       100\n",
            "           9       0.83      0.67      0.74       100\n",
            "          10       0.61      0.33      0.43       100\n",
            "          11       0.58      0.26      0.36       100\n",
            "          12       0.73      0.63      0.68       100\n",
            "          13       0.64      0.53      0.58       100\n",
            "          14       0.72      0.52      0.60       100\n",
            "          15       0.75      0.47      0.58       100\n",
            "          16       0.71      0.49      0.58       100\n",
            "          17       0.85      0.70      0.77       100\n",
            "          18       0.66      0.31      0.42       100\n",
            "          19       0.57      0.47      0.52       100\n",
            "          20       0.92      0.72      0.81       100\n",
            "          21       0.78      0.83      0.80       100\n",
            "          22       0.56      0.57      0.57       100\n",
            "          23       0.85      0.53      0.65       100\n",
            "          24       0.92      0.70      0.80       100\n",
            "          25       0.59      0.37      0.45       100\n",
            "          26       0.42      0.57      0.49       100\n",
            "          27       0.48      0.30      0.37       100\n",
            "          28       0.90      0.61      0.73       100\n",
            "          29       0.71      0.58      0.64       100\n",
            "          30       0.65      0.44      0.52       100\n",
            "          31       0.83      0.50      0.62       100\n",
            "          32       0.72      0.44      0.55       100\n",
            "          33       0.63      0.46      0.53       100\n",
            "          34       0.66      0.61      0.63       100\n",
            "          35       0.47      0.23      0.31       100\n",
            "          36       0.88      0.63      0.73       100\n",
            "          37       0.62      0.66      0.64       100\n",
            "          38       0.57      0.41      0.48       100\n",
            "          39       0.91      0.73      0.81       100\n",
            "          40       0.64      0.44      0.52       100\n",
            "          41       0.90      0.74      0.81       100\n",
            "          42       0.54      0.65      0.59       100\n",
            "          43       0.76      0.60      0.67       100\n",
            "          44       0.29      0.29      0.29       100\n",
            "          45       0.35      0.44      0.39       100\n",
            "          46       0.57      0.32      0.41       100\n",
            "          47       0.62      0.60      0.61       100\n",
            "          48       0.83      0.88      0.85       100\n",
            "          49       0.79      0.69      0.74       100\n",
            "          50       0.48      0.25      0.33       100\n",
            "          51       0.69      0.44      0.54       100\n",
            "          52       0.56      0.73      0.63       100\n",
            "          53       0.95      0.69      0.80       100\n",
            "          54       0.80      0.74      0.77       100\n",
            "          55       0.38      0.13      0.19       100\n",
            "          56       0.91      0.77      0.83       100\n",
            "          57       0.68      0.59      0.63       100\n",
            "          58       0.79      0.79      0.79       100\n",
            "          59       0.63      0.54      0.58       100\n",
            "          60       0.90      0.66      0.76       100\n",
            "          61       0.81      0.54      0.65       100\n",
            "          62       0.70      0.54      0.61       100\n",
            "          63       0.73      0.40      0.52       100\n",
            "          64       0.57      0.24      0.34       100\n",
            "          65       0.69      0.27      0.39       100\n",
            "          66       0.65      0.70      0.68       100\n",
            "          67       0.72      0.34      0.46       100\n",
            "          68       0.92      0.87      0.89       100\n",
            "          69       0.84      0.68      0.75       100\n",
            "          70       0.68      0.69      0.69       100\n",
            "          71       0.79      0.60      0.68       100\n",
            "          72       0.35      0.07      0.12       100\n",
            "          73       0.64      0.41      0.50       100\n",
            "          74       0.58      0.32      0.41       100\n",
            "          75       0.78      0.87      0.82       100\n",
            "          76       0.95      0.83      0.89       100\n",
            "          77       0.83      0.43      0.57       100\n",
            "          78       0.44      0.54      0.49       100\n",
            "          79       0.76      0.58      0.66       100\n",
            "          80       0.38      0.15      0.21       100\n",
            "          81       0.62      0.61      0.61       100\n",
            "          82       0.94      0.81      0.87       100\n",
            "          83       0.69      0.41      0.52       100\n",
            "          84       0.71      0.53      0.61       100\n",
            "          85       0.78      0.78      0.78       100\n",
            "          86       0.73      0.63      0.68       100\n",
            "          87       0.72      0.65      0.68       100\n",
            "          88       0.70      0.62      0.66       100\n",
            "          89       0.76      0.68      0.72       100\n",
            "          90       0.75      0.54      0.63       100\n",
            "          91       0.78      0.69      0.73       100\n",
            "          92       0.55      0.54      0.55       100\n",
            "          93       0.55      0.23      0.32       100\n",
            "          94       0.90      0.78      0.83       100\n",
            "          95       0.72      0.59      0.65       100\n",
            "          96       0.73      0.40      0.52       100\n",
            "          97       0.74      0.60      0.66       100\n",
            "          98       0.42      0.51      0.46       100\n",
            "          99       0.82      0.58      0.68       100\n",
            "\n",
            "   micro avg       0.70      0.54      0.61     10000\n",
            "   macro avg       0.70      0.54      0.60     10000\n",
            "weighted avg       0.70      0.54      0.60     10000\n",
            " samples avg       0.54      0.54      0.54     10000\n",
            "\n"
          ]
        },
        {
          "output_type": "stream",
          "name": "stderr",
          "text": [
            "/usr/local/lib/python3.7/dist-packages/sklearn/metrics/_classification.py:1308: UndefinedMetricWarning: Precision and F-score are ill-defined and being set to 0.0 in samples with no predicted labels. Use `zero_division` parameter to control this behavior.\n",
            "  _warn_prf(average, modifier, msg_start, len(result))\n"
          ]
        }
      ]
    },
    {
      "cell_type": "code",
      "source": [
        "%cd /content/drive/MyDrive/Semester 7/TKC/cifar-100-python/ "
      ],
      "metadata": {
        "colab": {
          "base_uri": "https://localhost:8080/"
        },
        "id": "9zdThLStCE0-",
        "outputId": "789187d8-8993-4be4-fae7-3e5bd8dbbcc7"
      },
      "execution_count": null,
      "outputs": [
        {
          "output_type": "stream",
          "name": "stdout",
          "text": [
            "/content/drive/MyDrive/Semester 7/TKC/cifar-100-python\n"
          ]
        }
      ]
    },
    {
      "cell_type": "code",
      "source": [
        "from keras.models import model_from_json\n",
        "# serialize model to JSON\n",
        "model_json = modelv2.to_json()\n",
        "with open(\"modelvgg16.json\", \"w\") as json_file:\n",
        "    json_file.write(model_json)\n",
        "# serialize weights to HDF5\n",
        "modelv2.save(\"modelvgg16.h5\")\n",
        "print(\"Saved model to disk\")"
      ],
      "metadata": {
        "id": "dWStHwH5aC-Z",
        "colab": {
          "base_uri": "https://localhost:8080/"
        },
        "outputId": "b4d3dbbe-3b9d-43cc-9a63-9ab7146a14e6"
      },
      "execution_count": null,
      "outputs": [
        {
          "output_type": "stream",
          "name": "stdout",
          "text": [
            "Saved model to disk\n"
          ]
        }
      ]
    },
    {
      "cell_type": "code",
      "source": [
        ""
      ],
      "metadata": {
        "id": "TCEvC2xYaC2X"
      },
      "execution_count": null,
      "outputs": []
    },
    {
      "cell_type": "code",
      "source": [
        ""
      ],
      "metadata": {
        "id": "Qrl8P4qOaCzp"
      },
      "execution_count": null,
      "outputs": []
    },
    {
      "cell_type": "code",
      "source": [
        ""
      ],
      "metadata": {
        "id": "jaFjmnqUaCw0"
      },
      "execution_count": null,
      "outputs": []
    }
  ]
}
